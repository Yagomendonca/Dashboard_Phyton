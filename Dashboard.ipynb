{
  "nbformat": 4,
  "nbformat_minor": 0,
  "metadata": {
    "colab": {
      "private_outputs": true,
      "provenance": [],
      "authorship_tag": "ABX9TyMp6cTqzBtSb65MlHqL7ADY",
      "include_colab_link": true
    },
    "kernelspec": {
      "name": "python3",
      "display_name": "Python 3"
    },
    "language_info": {
      "name": "python"
    }
  },
  "cells": [
    {
      "cell_type": "markdown",
      "metadata": {
        "id": "view-in-github",
        "colab_type": "text"
      },
      "source": [
        "<a href=\"https://colab.research.google.com/github/Yagomendonca/Dashboard_Phyton/blob/main/Dashboard.ipynb\" target=\"_parent\"><img src=\"https://colab.research.google.com/assets/colab-badge.svg\" alt=\"Open In Colab\"/></a>"
      ]
    },
    {
      "cell_type": "code",
      "source": [
        "!pip install streamlit"
      ],
      "metadata": {
        "id": "fZeQPxbddzHz"
      },
      "execution_count": null,
      "outputs": []
    },
    {
      "cell_type": "code",
      "source": [
        "import pandas as pd\n",
        "import streamlit as st\n",
        "import plotly.express as px"
      ],
      "metadata": {
        "id": "EGBuXLvUK8aM"
      },
      "execution_count": null,
      "outputs": []
    },
    {
      "cell_type": "code",
      "source": [
        "st.set_page_config(page_title='Dasboard Financeiro', layout='wide')\n",
        "st.title('Dashboard Financeiro')"
      ],
      "metadata": {
        "id": "nEqaCFK3Wj1c"
      },
      "execution_count": null,
      "outputs": []
    },
    {
      "cell_type": "code",
      "source": [
        "col1, col2 = st.columns(2)"
      ],
      "metadata": {
        "id": "sj9CfmczNnk9"
      },
      "execution_count": null,
      "outputs": []
    },
    {
      "cell_type": "code",
      "execution_count": null,
      "metadata": {
        "id": "lOx-I85EK4c5"
      },
      "outputs": [],
      "source": [
        "Top10Países = pd.read_excel('/content/Top_10_Paises.xlsx')"
      ]
    },
    {
      "cell_type": "code",
      "source": [
        "Top10Produtos = pd.read_excel('/content/Top_10_Produtos.xlsx')"
      ],
      "metadata": {
        "id": "aeoppJsLL5zK"
      },
      "execution_count": null,
      "outputs": []
    },
    {
      "cell_type": "code",
      "source": [
        "Vendas_mes = pd.read_excel('/content/Venda_mes.xlsx')"
      ],
      "metadata": {
        "id": "YUjY90ESMBS3"
      },
      "execution_count": null,
      "outputs": []
    },
    {
      "cell_type": "code",
      "source": [
        "df_Top10 = pd.read_excel('/content/Top_10.xlsx')"
      ],
      "metadata": {
        "id": "__95t9LDMGiR"
      },
      "execution_count": null,
      "outputs": []
    },
    {
      "cell_type": "code",
      "source": [
        "fig_Top10Países = px.bar(Top10Países, x = 'Country', y = 'Preço_Total', color_discrete_sequence=px.colors.qualitative.Alphabet, title = 'Top 10 países')\n",
        "fig_Top10Países.update_layout(title=dict(text='Top 10 Países', font=dict(size=35), xanchor = 'auto', yanchor =\"top\"))\n",
        "fig_Top10Países.show();\n",
        "fig_Top10Produtos = px.bar(Top10Produtos, y ='Quantity', color_discrete_sequence=px.colors.qualitative.Alphabet, title = 'Top 10 produtos')\n",
        "fig_Top10Produtos.update_layout(title=dict(text='Top 10 Produtos', font=dict(size=35), xanchor = 'auto', yanchor =\"top\"))\n",
        "fig_Top10Produtos.show();\n",
        "fig_Venda_Total_Mes = px.area(Vendas_mes, x= 'Data_do_Faturamento', y = 'Preço_Total', color_discrete_sequence=px.colors.qualitative.Alphabet, title = 'Venda total mês')\n",
        "fig_Venda_Total_Mes.update_layout(title=dict(text='Venda Total Mes', font=dict(size=35), xanchor = 'auto', yanchor =\"top\"))\n",
        "fig_Venda_Total_Mes.show()\n",
        "fig_Venda_País_Mês = px.bar(df_Top10, x='Data_do_Faturamento', y='Preço_Total', color_discrete_sequence=px.colors.qualitative.Alphabet, color='Country', title = 'Top 10 País por mês ')\n",
        "fig_Venda_País_Mês.update_layout(title=dict(text='Venda País Mês', font=dict(size=35), xanchor = 'auto', yanchor =\"top\"))\n",
        "\n",
        "fig_Venda_País_Mês.show()"
      ],
      "metadata": {
        "id": "ya1GLN-JMnoO"
      },
      "execution_count": null,
      "outputs": []
    },
    {
      "cell_type": "code",
      "source": [
        "col1.plotly_chart(fig_Top10Países)"
      ],
      "metadata": {
        "id": "qqort_13hXUl"
      },
      "execution_count": null,
      "outputs": []
    },
    {
      "cell_type": "code",
      "source": [
        "col2.plotly_chart(fig_Top10Produtos)"
      ],
      "metadata": {
        "id": "ualzc8RwLOOR"
      },
      "execution_count": null,
      "outputs": []
    },
    {
      "cell_type": "code",
      "source": [
        "col1.plotly_chart(fig_Venda_Total_Mes)"
      ],
      "metadata": {
        "id": "XE7mg7lmLPdL"
      },
      "execution_count": null,
      "outputs": []
    },
    {
      "cell_type": "code",
      "source": [
        "col2.plotly_chart(fig_Venda_País_Mês)"
      ],
      "metadata": {
        "id": "KvrqNvqfLQqj"
      },
      "execution_count": null,
      "outputs": []
    }
  ]
}