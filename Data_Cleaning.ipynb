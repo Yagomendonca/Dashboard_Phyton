{
  "nbformat": 4,
  "nbformat_minor": 0,
  "metadata": {
    "colab": {
      "private_outputs": true,
      "provenance": [],
      "include_colab_link": true
    },
    "kernelspec": {
      "name": "python3",
      "display_name": "Python 3"
    },
    "language_info": {
      "name": "python"
    }
  },
  "cells": [
    {
      "cell_type": "markdown",
      "metadata": {
        "id": "view-in-github",
        "colab_type": "text"
      },
      "source": [
        "<a href=\"https://colab.research.google.com/github/Yagomendonca/Dashboard_Phyton/blob/main/Data_Cleaning.ipynb\" target=\"_parent\"><img src=\"https://colab.research.google.com/assets/colab-badge.svg\" alt=\"Open In Colab\"/></a>"
      ]
    },
    {
      "cell_type": "markdown",
      "source": [
        "### Import das bibliotecas"
      ],
      "metadata": {
        "id": "PA6sz2otI-Uc"
      }
    },
    {
      "cell_type": "code",
      "source": [
        "import numpy as np\n",
        "import pandas as pd\n",
        "from datetime import datetime\n",
        "import plotly.express as px\n",
        "\n",
        "\n",
        "import seaborn as sns\n",
        "import matplotlib.pyplot as plt\n",
        "\n",
        "from sklearn import metrics\n",
        "from sklearn.pipeline import Pipeline\n",
        "from sklearn.impute import SimpleImputer\n",
        "from sklearn.compose import ColumnTransformer\n",
        "from sklearn.preprocessing import scale, minmax_scale, power_transform"
      ],
      "metadata": {
        "id": "MjBJhax-8T4g"
      },
      "execution_count": null,
      "outputs": []
    },
    {
      "cell_type": "markdown",
      "source": [
        "### Import do Dataframe"
      ],
      "metadata": {
        "id": "X2RH5y31JFBV"
      }
    },
    {
      "cell_type": "code",
      "source": [
        "from google.colab import drive\n",
        "drive.mount('/content/drive')"
      ],
      "metadata": {
        "id": "njtLEEGlHMSo"
      },
      "execution_count": null,
      "outputs": []
    },
    {
      "cell_type": "code",
      "source": [
        "df = pd.read_csv('/content/drive/MyDrive/CURSO ANALISE DE DADOS DNC/MÊS 08/Desafio 5/data.csv', encoding='unicode_escape')"
      ],
      "metadata": {
        "id": "RHLLaPWG-ymf"
      },
      "execution_count": null,
      "outputs": []
    },
    {
      "cell_type": "code",
      "source": [
        "df"
      ],
      "metadata": {
        "id": "i9yA2nvQatU0"
      },
      "execution_count": null,
      "outputs": []
    },
    {
      "cell_type": "markdown",
      "source": [
        "### Entendendo os dados"
      ],
      "metadata": {
        "id": "syEws8M9bS7V"
      }
    },
    {
      "cell_type": "markdown",
      "source": [
        "Mudança no nome das colunas"
      ],
      "metadata": {
        "id": "GrxLtTxGJIsP"
      }
    },
    {
      "cell_type": "code",
      "source": [
        "df = df.rename(columns={'InvoiceNo':'Codigo_da_fatura', 'StockCode':'Codigo_de_estoque', 'InvoiceDate':'Data_do_Faturamento'})"
      ],
      "metadata": {
        "id": "zNOdELHp_jTd"
      },
      "execution_count": null,
      "outputs": []
    },
    {
      "cell_type": "markdown",
      "source": [
        "Verificação dos dados"
      ],
      "metadata": {
        "id": "VqVOq0KSJTRX"
      }
    },
    {
      "cell_type": "code",
      "source": [
        "df.describe()"
      ],
      "metadata": {
        "id": "ppM2hsWJLYgX"
      },
      "execution_count": null,
      "outputs": []
    },
    {
      "cell_type": "code",
      "source": [
        "df.max()"
      ],
      "metadata": {
        "id": "ZKvvLNYiMUUF"
      },
      "execution_count": null,
      "outputs": []
    },
    {
      "cell_type": "code",
      "source": [
        "df.info()"
      ],
      "metadata": {
        "id": "WcPdJT4wIFho"
      },
      "execution_count": null,
      "outputs": []
    },
    {
      "cell_type": "markdown",
      "source": [
        "### Limpeza dos dados"
      ],
      "metadata": {
        "id": "yprj48xiJTFp"
      }
    },
    {
      "cell_type": "markdown",
      "source": [
        "Verificação dos dados nulos"
      ],
      "metadata": {
        "id": "BR_lcckmJWNl"
      }
    },
    {
      "cell_type": "code",
      "source": [
        "df.isnull().sum()"
      ],
      "metadata": {
        "id": "H_9CRz1dAo-m"
      },
      "execution_count": null,
      "outputs": []
    },
    {
      "cell_type": "markdown",
      "source": [
        "Entendendo que o Customer ID é igual ao código de identificação do cliente, não há motivos de se ter códigos vazios, pois se o código é vazio não exite cliente, logo, a venda não foi realizada, ou foi realizada para um cliente fantasma"
      ],
      "metadata": {
        "id": "HCr5_XcQJ9cU"
      }
    },
    {
      "cell_type": "code",
      "source": [
        "df[df['CustomerID'].isna()]"
      ],
      "metadata": {
        "id": "mwAdNU4IBtgW"
      },
      "execution_count": null,
      "outputs": []
    },
    {
      "cell_type": "code",
      "source": [
        "df[df['Description'].isna()]"
      ],
      "metadata": {
        "id": "oEBLNliqItnY"
      },
      "execution_count": null,
      "outputs": []
    },
    {
      "cell_type": "markdown",
      "source": [
        "Aqui entendeu-se que algumas descrições dos produtos são nulas quando o Customer ID é nulo. Logo, foi necessário excluir apenas os dados em que o Customer ID é nulo para que as descrições tambem sejam excluídas e assim o dataset ficará sem valores nulos"
      ],
      "metadata": {
        "id": "5CVjWNGRJcap"
      }
    },
    {
      "cell_type": "code",
      "source": [
        "df.dropna(subset=['CustomerID'], inplace=True)"
      ],
      "metadata": {
        "id": "jsOM0djSFx3w"
      },
      "execution_count": null,
      "outputs": []
    },
    {
      "cell_type": "code",
      "source": [
        "df.info()"
      ],
      "metadata": {
        "id": "rRETDwQ0Ugh7"
      },
      "execution_count": null,
      "outputs": []
    },
    {
      "cell_type": "code",
      "source": [
        "df.describe()"
      ],
      "metadata": {
        "id": "aKSGys0fb9Nj"
      },
      "execution_count": null,
      "outputs": []
    },
    {
      "cell_type": "code",
      "source": [
        "df = df.query('UnitPrice > 0')"
      ],
      "metadata": {
        "id": "iBuZs2AmRnp4"
      },
      "execution_count": null,
      "outputs": []
    },
    {
      "cell_type": "code",
      "source": [
        "df = df.query('Quantity > 0')"
      ],
      "metadata": {
        "id": "tZMnleYKYWx4"
      },
      "execution_count": null,
      "outputs": []
    },
    {
      "cell_type": "code",
      "source": [
        "df"
      ],
      "metadata": {
        "id": "IXeK2BUFW1K_"
      },
      "execution_count": null,
      "outputs": []
    },
    {
      "cell_type": "code",
      "source": [
        "df.describe()"
      ],
      "metadata": {
        "id": "ngIAYz6iXZd9"
      },
      "execution_count": null,
      "outputs": []
    },
    {
      "cell_type": "markdown",
      "source": [
        "Exclusão de valores <= 0"
      ],
      "metadata": {
        "id": "2JJDCY5GchjC"
      }
    },
    {
      "cell_type": "code",
      "source": [
        "df.duplicated().sum()"
      ],
      "metadata": {
        "id": "t5mje3e1Ywq7"
      },
      "execution_count": null,
      "outputs": []
    },
    {
      "cell_type": "code",
      "source": [
        "df[df.duplicated()]"
      ],
      "metadata": {
        "id": "XaIFjo-IYm4V"
      },
      "execution_count": null,
      "outputs": []
    },
    {
      "cell_type": "code",
      "source": [
        "df = df.drop_duplicates()"
      ],
      "metadata": {
        "id": "mimhi1F2Y6Cg"
      },
      "execution_count": null,
      "outputs": []
    },
    {
      "cell_type": "code",
      "source": [
        "df.duplicated().sum()"
      ],
      "metadata": {
        "id": "K3cpIuFBY95L"
      },
      "execution_count": null,
      "outputs": []
    },
    {
      "cell_type": "markdown",
      "source": [
        "Exclusão de valores duplicados"
      ],
      "metadata": {
        "id": "BousnlbEc2BX"
      }
    },
    {
      "cell_type": "code",
      "source": [
        "df.info()"
      ],
      "metadata": {
        "id": "_9YWsgj-ZEhQ"
      },
      "execution_count": null,
      "outputs": []
    },
    {
      "cell_type": "code",
      "source": [
        "df.max()"
      ],
      "metadata": {
        "id": "oYo5R7HuZJzs"
      },
      "execution_count": null,
      "outputs": []
    },
    {
      "cell_type": "markdown",
      "source": [
        "### Mudando o tipo dos dados"
      ],
      "metadata": {
        "id": "fFxHSkk2c6A3"
      }
    },
    {
      "cell_type": "code",
      "source": [
        "df['Data_do_Faturamento'] =  df['Data_do_Faturamento'].astype('datetime64')"
      ],
      "metadata": {
        "id": "q5vudh5zIYdv"
      },
      "execution_count": null,
      "outputs": []
    },
    {
      "cell_type": "code",
      "source": [
        "df"
      ],
      "metadata": {
        "id": "5b2Ok1axvpJ7"
      },
      "execution_count": null,
      "outputs": []
    },
    {
      "cell_type": "code",
      "source": [
        "df['CustomerID'] = df['CustomerID'].astype(int)"
      ],
      "metadata": {
        "id": "l2wBaxq7ZWsk"
      },
      "execution_count": null,
      "outputs": []
    },
    {
      "cell_type": "code",
      "source": [
        "df.info()"
      ],
      "metadata": {
        "id": "cQlE3BxBZuhA"
      },
      "execution_count": null,
      "outputs": []
    },
    {
      "cell_type": "markdown",
      "source": [
        "### Tratando os outliers"
      ],
      "metadata": {
        "id": "q0F44s7zdk9b"
      }
    },
    {
      "cell_type": "code",
      "source": [
        "df.describe()"
      ],
      "metadata": {
        "id": "aelRYB-MJY8Q"
      },
      "execution_count": null,
      "outputs": []
    },
    {
      "cell_type": "code",
      "source": [
        "df.plot.box()"
      ],
      "metadata": {
        "id": "tp4j7DXrYAFZ"
      },
      "execution_count": null,
      "outputs": []
    },
    {
      "cell_type": "code",
      "source": [
        "df[['UnitPrice', 'Quantity']].apply(scale).boxplot()"
      ],
      "metadata": {
        "id": "RJEP_hwQg7Ky"
      },
      "execution_count": null,
      "outputs": []
    },
    {
      "cell_type": "code",
      "source": [
        "df.query('UnitPrice>=5000')"
      ],
      "metadata": {
        "id": "bhzJJ3b4kI2W"
      },
      "execution_count": null,
      "outputs": []
    },
    {
      "cell_type": "code",
      "source": [
        "df.query('Quantity>10000')"
      ],
      "metadata": {
        "id": "17R281TnksrK"
      },
      "execution_count": null,
      "outputs": []
    },
    {
      "cell_type": "code",
      "source": [
        "df.describe(percentiles=[.01, .25, .5, .75, .9, .99])"
      ],
      "metadata": {
        "id": "KXJStBWcfMcS"
      },
      "execution_count": null,
      "outputs": []
    },
    {
      "cell_type": "code",
      "source": [
        "def is_outlier(array, extreme=False):\n",
        "  \"\"\"Custom function to identify outliers in an array\"\"\"\n",
        "  q1,q3 = np.quantile(array, [.25,.99])\n",
        "  iqr = q3-q1\n",
        "\n",
        "  factor = 400. if extreme else 350\n",
        "  upper_outlier = q3 + factor*iqr\n",
        "  lower_outlier = q1 - factor*iqr\n",
        "\n",
        "  return (array < lower_outlier) | (array > upper_outlier)"
      ],
      "metadata": {
        "id": "XWfV-2FZhBvw"
      },
      "execution_count": null,
      "outputs": []
    },
    {
      "cell_type": "code",
      "source": [
        "df[['UnitPrice', 'Quantity']].apply(is_outlier).sum()"
      ],
      "metadata": {
        "id": "I3q9-RQahIBg"
      },
      "execution_count": null,
      "outputs": []
    },
    {
      "cell_type": "code",
      "source": [
        "df= df[~df[['UnitPrice', 'Quantity']].apply(is_outlier).any(axis=1)]"
      ],
      "metadata": {
        "id": "DJIb-7J5i8z6"
      },
      "execution_count": null,
      "outputs": []
    },
    {
      "cell_type": "code",
      "source": [
        "df.query('UnitPrice>=5000')\n",
        "df.query('Quantity>=10000')"
      ],
      "metadata": {
        "id": "s-_sa5Sbkzen"
      },
      "execution_count": null,
      "outputs": []
    },
    {
      "cell_type": "markdown",
      "source": [
        "### Análises matemáticas"
      ],
      "metadata": {
        "id": "UEOQCws2JgLA"
      }
    },
    {
      "cell_type": "markdown",
      "source": [
        "Verificando o valor total em vendas"
      ],
      "metadata": {
        "id": "W8U9chbOd0xi"
      }
    },
    {
      "cell_type": "code",
      "source": [
        "df['Preço_Total'] = df['Quantity'] * df['UnitPrice']"
      ],
      "metadata": {
        "id": "3_1EWfDJY732"
      },
      "execution_count": null,
      "outputs": []
    },
    {
      "cell_type": "code",
      "source": [
        "df.head()"
      ],
      "metadata": {
        "id": "5XUz8OGXZMhP"
      },
      "execution_count": null,
      "outputs": []
    },
    {
      "cell_type": "code",
      "source": [
        "df.info()"
      ],
      "metadata": {
        "id": "UupafrrYZS52"
      },
      "execution_count": null,
      "outputs": []
    },
    {
      "cell_type": "markdown",
      "source": [
        "Verificando a ultima data"
      ],
      "metadata": {
        "id": "9Qx4macdd6o9"
      }
    },
    {
      "cell_type": "code",
      "source": [
        "df.sort_values('Data_do_Faturamento', ascending=False)"
      ],
      "metadata": {
        "id": "Nbl9CnJhl38b"
      },
      "execution_count": null,
      "outputs": []
    },
    {
      "cell_type": "markdown",
      "source": [
        "Calculando o top 10 países com maior valor em vendas"
      ],
      "metadata": {
        "id": "p7HCe340eBdS"
      }
    },
    {
      "cell_type": "code",
      "source": [
        "Top10Países = df[['Country', 'Preço_Total']].groupby('Country').sum().sort_values('Preço_Total',ascending=False).head(10)"
      ],
      "metadata": {
        "id": "dnWN7Q6NaedB"
      },
      "execution_count": null,
      "outputs": []
    },
    {
      "cell_type": "code",
      "source": [
        "Top10Países"
      ],
      "metadata": {
        "id": "0KmV5dQacRQX"
      },
      "execution_count": null,
      "outputs": []
    },
    {
      "cell_type": "code",
      "source": [
        "Top10Países.to_excel('Top_10_Paises.xlsx')"
      ],
      "metadata": {
        "id": "fLHa_ntUJh-D"
      },
      "execution_count": null,
      "outputs": []
    },
    {
      "cell_type": "markdown",
      "source": [
        "Top 10 produtos com maior valor em vendas"
      ],
      "metadata": {
        "id": "9PtY5cOPeI4m"
      }
    },
    {
      "cell_type": "code",
      "source": [
        "Top10Produtos = df[['Description', 'Quantity']].groupby('Description').sum('Quantity').sort_values('Quantity', ascending=False).head(10)"
      ],
      "metadata": {
        "id": "8DM1uTf8cxQu"
      },
      "execution_count": null,
      "outputs": []
    },
    {
      "cell_type": "code",
      "source": [
        "Top10Produtos"
      ],
      "metadata": {
        "id": "ATew_jDhdK5q"
      },
      "execution_count": null,
      "outputs": []
    },
    {
      "cell_type": "code",
      "source": [
        "Top10Produtos.to_excel('Top_10_Produtos.xlsx')"
      ],
      "metadata": {
        "id": "ypR1EGjBKdeJ"
      },
      "execution_count": null,
      "outputs": []
    },
    {
      "cell_type": "markdown",
      "source": [
        "Venda total po mês"
      ],
      "metadata": {
        "id": "eYopEEtuerBJ"
      }
    },
    {
      "cell_type": "code",
      "source": [
        "UltimaData = df['Data_do_Faturamento'].max()"
      ],
      "metadata": {
        "id": "5yuBEj3ZpnJ5"
      },
      "execution_count": null,
      "outputs": []
    },
    {
      "cell_type": "code",
      "source": [
        "UltimaData"
      ],
      "metadata": {
        "id": "41w7HJRSpqQE"
      },
      "execution_count": null,
      "outputs": []
    },
    {
      "cell_type": "code",
      "source": [
        "df_date_index = df.set_index('Data_do_Faturamento').sort_index()\n",
        "df_date_index"
      ],
      "metadata": {
        "id": "olslAwyjG1E1"
      },
      "execution_count": null,
      "outputs": []
    },
    {
      "cell_type": "code",
      "source": [
        "Venda_Total_Mes = df_date_index[['Preço_Total']].resample('MS').sum()"
      ],
      "metadata": {
        "id": "1Up6OoydeUAG"
      },
      "execution_count": null,
      "outputs": []
    },
    {
      "cell_type": "code",
      "source": [
        "Venda_Total_Mes"
      ],
      "metadata": {
        "id": "CGJQcNtzgXt3"
      },
      "execution_count": null,
      "outputs": []
    },
    {
      "cell_type": "code",
      "source": [
        "Venda_Total_Mes.to_excel('Venda_mes.xlsx')"
      ],
      "metadata": {
        "id": "dCQ01-mbKjyo"
      },
      "execution_count": null,
      "outputs": []
    },
    {
      "cell_type": "markdown",
      "source": [
        "Venda total por país e mês"
      ],
      "metadata": {
        "id": "W2U3qjPDevUm"
      }
    },
    {
      "cell_type": "code",
      "source": [
        "Venda_Total_Mes2 = df.groupby([df['Data_do_Faturamento'].dt.strftime('%Y-%m'), 'Country'])['Preço_Total'].sum().reset_index()"
      ],
      "metadata": {
        "id": "Eu-dC57JOlx1"
      },
      "execution_count": null,
      "outputs": []
    },
    {
      "cell_type": "code",
      "source": [
        "Venda_Total_Mes2"
      ],
      "metadata": {
        "id": "xxAURcZPYs1F"
      },
      "execution_count": null,
      "outputs": []
    },
    {
      "cell_type": "code",
      "source": [
        "Venda_Total_Pais_Mes = Venda_Total_Mes2.groupby('Country')['Preço_Total'].sum().nlargest(10).index\n",
        "df_Top10 = Venda_Total_Mes2[Venda_Total_Mes2['Country'].isin(Venda_Total_Pais_Mes)].sort_values('Preço_Total', ascending=False)"
      ],
      "metadata": {
        "id": "FzF36EuaOmt0"
      },
      "execution_count": null,
      "outputs": []
    },
    {
      "cell_type": "code",
      "source": [
        "df_Top10"
      ],
      "metadata": {
        "id": "P7PmpnkDgi0w"
      },
      "execution_count": null,
      "outputs": []
    },
    {
      "cell_type": "code",
      "source": [
        "df_Top10.to_excel('Top_10.xlsx')"
      ],
      "metadata": {
        "id": "k1InfSuvKtZe"
      },
      "execution_count": null,
      "outputs": []
    },
    {
      "cell_type": "markdown",
      "source": [
        "### Dashboard"
      ],
      "metadata": {
        "id": "NCKigP0ucREc"
      }
    },
    {
      "cell_type": "code",
      "source": [
        "!pip install dash"
      ],
      "metadata": {
        "id": "rEMM6-nBscTo"
      },
      "execution_count": null,
      "outputs": []
    },
    {
      "cell_type": "code",
      "source": [
        "from dash import Dash, html, dcc"
      ],
      "metadata": {
        "id": "sVzwzAzKsTdP"
      },
      "execution_count": null,
      "outputs": []
    },
    {
      "cell_type": "code",
      "source": [
        "fig_Top10Países = px.bar(Top10Países, color_discrete_sequence=px.colors.qualitative.Alphabet, title = 'Top 10 países')\n",
        "fig_Top10Países.update_layout(title=dict(text='Top 10 Países', font=dict(size=35), xanchor = 'auto', yanchor =\"top\"))\n",
        "fig_Top10Países.show();\n",
        "fig_Top10Produtos = px.bar(Top10Produtos, y ='Quantity', color_discrete_sequence=px.colors.qualitative.Alphabet, title = 'Top 10 produtos')\n",
        "fig_Top10Produtos.update_layout(title=dict(text='Top 10 Produtos', font=dict(size=35), xanchor = 'auto', yanchor =\"top\"))\n",
        "fig_Top10Produtos.show();\n",
        "fig_Venda_Total_Mes = px.area(Venda_Total_Mes, color_discrete_sequence=px.colors.qualitative.Alphabet, title = 'Venda total mês')\n",
        "fig_Venda_Total_Mes.update_layout(title=dict(text='Venda Total Mes', font=dict(size=35), xanchor = 'auto', yanchor =\"top\"))\n",
        "fig_Venda_Total_Mes.show()\n",
        "fig_Venda_País_Mês = px.bar(df_Top10, x='Data_do_Faturamento', y='Preço_Total', color_discrete_sequence=px.colors.qualitative.Alphabet, color='Country', title = 'Top 10 País por mês ')\n",
        "fig_Venda_País_Mês.update_layout(title=dict(text='Venda País Mês', font=dict(size=35), xanchor = 'auto', yanchor =\"top\"))\n",
        "\n",
        "fig_Venda_País_Mês.show()"
      ],
      "metadata": {
        "id": "4hIs9QAxfXM6"
      },
      "execution_count": null,
      "outputs": []
    },
    {
      "cell_type": "code",
      "source": [],
      "metadata": {
        "id": "0CQWGjNPy7bf"
      },
      "execution_count": null,
      "outputs": []
    },
    {
      "cell_type": "markdown",
      "source": [
        "### Cálculo do RFM"
      ],
      "metadata": {
        "id": "roSLlWeafGtk"
      }
    },
    {
      "cell_type": "code",
      "source": [
        "df.groupby(['CustomerID', 'Description', 'Data_do_Faturamento'])[['Preço_Total']].mean()"
      ],
      "metadata": {
        "id": "PxcUnXgnhF82"
      },
      "execution_count": null,
      "outputs": []
    },
    {
      "cell_type": "markdown",
      "source": [
        "Cálculo da Recência"
      ],
      "metadata": {
        "id": "d3fTu3DifQeI"
      }
    },
    {
      "cell_type": "code",
      "source": [
        "df.groupby(['CustomerID'])[['Preço_Total']].mean()"
      ],
      "metadata": {
        "id": "JG3zrl5diFip"
      },
      "execution_count": null,
      "outputs": []
    },
    {
      "cell_type": "code",
      "source": [
        "Recencia = df.groupby(['CustomerID'])[['Data_do_Faturamento']].max()"
      ],
      "metadata": {
        "id": "ZySSMyYdiSBE"
      },
      "execution_count": null,
      "outputs": []
    },
    {
      "cell_type": "code",
      "source": [
        "Recencia.info()"
      ],
      "metadata": {
        "id": "OX3cc9fMkDkC"
      },
      "execution_count": null,
      "outputs": []
    },
    {
      "cell_type": "code",
      "source": [
        "UltimaData"
      ],
      "metadata": {
        "id": "2s0yoJKhs8nC"
      },
      "execution_count": null,
      "outputs": []
    },
    {
      "cell_type": "code",
      "source": [
        "Recencia.query('12347')"
      ],
      "metadata": {
        "id": "m4yL7QoEs22Y"
      },
      "execution_count": null,
      "outputs": []
    },
    {
      "cell_type": "code",
      "source": [
        "Recencia['Dias'] = abs(Recencia - UltimaData)"
      ],
      "metadata": {
        "id": "ifp67qVxsioF"
      },
      "execution_count": null,
      "outputs": []
    },
    {
      "cell_type": "code",
      "source": [
        "Recencia.info()"
      ],
      "metadata": {
        "id": "h1lIs1Y4uEf5"
      },
      "execution_count": null,
      "outputs": []
    },
    {
      "cell_type": "code",
      "source": [
        "Recencia"
      ],
      "metadata": {
        "id": "CC-9ZPcRwt2o"
      },
      "execution_count": null,
      "outputs": []
    },
    {
      "cell_type": "markdown",
      "source": [
        "Cálculo da Frequência"
      ],
      "metadata": {
        "id": "fWJbDWm9fZB6"
      }
    },
    {
      "cell_type": "code",
      "source": [
        "Frequencia = df.groupby(['CustomerID'])[['Quantity']].count()"
      ],
      "metadata": {
        "id": "YxcuiQ_-J0N3"
      },
      "execution_count": null,
      "outputs": []
    },
    {
      "cell_type": "code",
      "source": [
        "Frequencia.sort_values('Quantity',ascending=False)"
      ],
      "metadata": {
        "id": "4ojI_GQSJ48j"
      },
      "execution_count": null,
      "outputs": []
    },
    {
      "cell_type": "markdown",
      "source": [
        "Cálculo do Ticket Médio"
      ],
      "metadata": {
        "id": "K-Wi8qvefcMv"
      }
    },
    {
      "cell_type": "code",
      "source": [
        "Ticket_medio = df.groupby(['CustomerID'])[['Preço_Total']].mean()"
      ],
      "metadata": {
        "id": "ecLTmiMEKNJ4"
      },
      "execution_count": null,
      "outputs": []
    },
    {
      "cell_type": "code",
      "source": [
        "Ticket_medio.sort_values('Preço_Total', ascending=False)"
      ],
      "metadata": {
        "id": "L1JIf8-TKWcb"
      },
      "execution_count": null,
      "outputs": []
    }
  ]
}